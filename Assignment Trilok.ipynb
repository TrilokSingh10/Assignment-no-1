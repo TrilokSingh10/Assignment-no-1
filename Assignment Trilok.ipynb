{
 "cells": [
  {
   "cell_type": "code",
   "execution_count": 19,
   "id": "37d8e115-8401-435c-9eaa-192409d99ef1",
   "metadata": {},
   "outputs": [
    {
     "name": "stdout",
     "output_type": "stream",
     "text": [
      "Name : Trilok\n",
      "Course : MCA\n",
      "Python Version :  3.12.4 | packaged by Anaconda, Inc. | (main, Jun 18 2024, 15:03:56) [MSC v.1929 64 bit (AMD64)]\n"
     ]
    }
   ],
   "source": [
    "#Introduction\n",
    "import sys\n",
    "print ('Name : Trilok')\n",
    "print ('Course : MCA')\n",
    "print ('Python Version : ', sys.version)"
   ]
  },
  {
   "cell_type": "code",
   "execution_count": 21,
   "id": "0a3b8bda-1f2d-49fd-a836-40356936fd06",
   "metadata": {},
   "outputs": [
    {
     "name": "stdout",
     "output_type": "stream",
     "text": [
      "Hello, Python World!\n"
     ]
    }
   ],
   "source": [
    "#Hello World\n",
    "print('Hello, Python World!')"
   ]
  },
  {
   "cell_type": "code",
   "execution_count": 23,
   "id": "b061ae13-742a-468b-8b11-eaa36125905e",
   "metadata": {},
   "outputs": [
    {
     "name": "stdin",
     "output_type": "stream",
     "text": [
      "Enter your first name :  Trilok \n",
      "Enter your last name :  Singh\n"
     ]
    },
    {
     "name": "stdout",
     "output_type": "stream",
     "text": [
      "Reversed Name: hgniS  kolirT\n"
     ]
    }
   ],
   "source": [
    "#String Operations\n",
    "#Taking user input for first & last name\n",
    "f_name = input('Enter your first name : ')\n",
    "l_name = input('Enter your last name : ')\n",
    "\n",
    "#using string slicing to reverse the name [the script used string slicing to reverse the strings & concatenation to join them with a space]\n",
    "\n",
    "rev_name = l_name[::-1] + ' ' + f_name[::-1]\n",
    "\n",
    "#printing the reversed name\n",
    "\n",
    "print('Reversed Name:', rev_name)"
   ]
  },
  {
   "cell_type": "code",
   "execution_count": 25,
   "id": "d31380e0-1c19-435b-8a5c-1a53ef2a3c4f",
   "metadata": {},
   "outputs": [
    {
     "name": "stdin",
     "output_type": "stream",
     "text": [
      "Enter a number:  54\n"
     ]
    },
    {
     "name": "stdout",
     "output_type": "stream",
     "text": [
      "Integer: 54\n",
      "Float: 54.0\n",
      "Complex: (54+0j)\n"
     ]
    }
   ],
   "source": [
    "#Numeric Coversion\n",
    "# Taking a number as input\n",
    "num = input(\"Enter a number: \")\n",
    "\n",
    "# Converting to different numeric data types\n",
    "int_num = int(num)    # Integer conversion\n",
    "float_num = float(num) # Float conversion\n",
    "complex_num = complex(num) # Complex number conversion\n",
    "\n",
    "# Displaying the converted values\n",
    "print(\"Integer:\", int_num)\n",
    "print(\"Float:\", float_num)\n",
    "print(\"Complex:\", complex_num)\n",
    "\n",
    "# Comments on data types:\n",
    "# int: represents whole numbers without a fractional part.\n",
    "# float: represents real numbers, includes fractional parts.\n",
    "# complex: represents complex numbers with a real and an imaginary part."
   ]
  },
  {
   "cell_type": "code",
   "execution_count": 27,
   "id": "e215e871-abe0-4043-9478-201bf7b5ecda",
   "metadata": {},
   "outputs": [
    {
     "name": "stdin",
     "output_type": "stream",
     "text": [
      "Enter the length of the rectangle:  4\n",
      "Enter the width of the rectangle:  8\n"
     ]
    },
    {
     "name": "stdout",
     "output_type": "stream",
     "text": [
      "Area of the rectangle: 32.0\n"
     ]
    }
   ],
   "source": [
    "#Rectangle area\n",
    "# Prompting user for the rectangle's dimensions\n",
    "length = float(input('Enter the length of the rectangle: '))\n",
    "width = float(input('Enter the width of the rectangle: '))\n",
    "\n",
    "# Calculating the area\n",
    "area = length * width\n",
    "\n",
    "# Displaying the area\n",
    "print('Area of the rectangle:', area)\n"
   ]
  },
  {
   "cell_type": "code",
   "execution_count": 29,
   "id": "5f5962de-cf7e-4ea6-953e-bd51647e4d75",
   "metadata": {},
   "outputs": [
    {
     "name": "stdin",
     "output_type": "stream",
     "text": [
      "Enter the length of the rectangle:  4\n",
      "Enter the width of the rectangle:  8\n"
     ]
    },
    {
     "name": "stdout",
     "output_type": "stream",
     "text": [
      "Area of the rectangle: 32.00\n"
     ]
    }
   ],
   "source": [
    "#Rectangle area format\n",
    "# Prompting user for the rectangle's dimensions\n",
    "length = float(input('Enter the length of the rectangle: '))\n",
    "width = float(input('Enter the width of the rectangle: '))\n",
    "\n",
    "# Calculating the area\n",
    "area = length * width\n",
    "\n",
    "# Displaying the area with two decimal places using format method\n",
    "print(\"Area of the rectangle: {:.2f}\".format(area))"
   ]
  },
  {
   "cell_type": "code",
   "execution_count": 31,
   "id": "d5858d07-2973-4d86-8a2c-71a3756508d8",
   "metadata": {},
   "outputs": [
    {
     "name": "stdin",
     "output_type": "stream",
     "text": [
      "Enter first number:  4\n",
      "Enter second number:  6\n",
      "Enter third number:  8\n"
     ]
    },
    {
     "name": "stdout",
     "output_type": "stream",
     "text": [
      "The average of the three numbers is: 6.00\n"
     ]
    }
   ],
   "source": [
    "#Average Calculation\n",
    "\n",
    "# Taking three numbers as input\n",
    "num1 = float(input('Enter first number: '))\n",
    "num2 = float(input('Enter second number: '))\n",
    "num3 = float(input('Enter third number: '))\n",
    "\n",
    "# Calculating the average\n",
    "average = (num1 + num2 + num3) / 3\n",
    "\n",
    "# Using % method for string formatting\n",
    "print(\"The average of the three numbers is: %.2f\" % average)"
   ]
  },
  {
   "cell_type": "code",
   "execution_count": 33,
   "id": "9afd16a8-97e7-46b3-9550-53095146fc38",
   "metadata": {},
   "outputs": [
    {
     "name": "stdin",
     "output_type": "stream",
     "text": [
      "Enter a number (or type 'exit' to quit):  2\n"
     ]
    },
    {
     "name": "stdout",
     "output_type": "stream",
     "text": [
      "The number is positive.\n"
     ]
    },
    {
     "name": "stdin",
     "output_type": "stream",
     "text": [
      "Enter a number (or type 'exit' to quit):  4\n"
     ]
    },
    {
     "name": "stdout",
     "output_type": "stream",
     "text": [
      "The number is positive.\n"
     ]
    },
    {
     "name": "stdin",
     "output_type": "stream",
     "text": [
      "Enter a number (or type 'exit' to quit):  exit\n"
     ]
    }
   ],
   "source": [
    "#Num Check\n",
    "while True:\n",
    "    user_input = input(\"Enter a number (or type 'exit' to quit): \")\n",
    "\n",
    "    if user_input.lower() == 'exit':\n",
    "        break\n",
    "\n",
    "    try:\n",
    "        number = float(user_input)\n",
    "\n",
    "        if number > 0:\n",
    "            print(\"The number is positive.\")\n",
    "        elif number < 0:\n",
    "            print(\"The number is negative.\")\n",
    "        else:\n",
    "            print(\"The number is zero.\")\n",
    "    except ValueError:\n",
    "        print(\"Invalid input, please enter a number or 'exit' to quit.\")\n",
    "        continue"
   ]
  },
  {
   "cell_type": "code",
   "execution_count": 35,
   "id": "4e2c9efe-6662-4bd1-99cb-71865d8ea6b3",
   "metadata": {},
   "outputs": [
    {
     "name": "stdin",
     "output_type": "stream",
     "text": [
      "Enter first number:  5\n",
      "Enter second number:  99\n"
     ]
    },
    {
     "name": "stdout",
     "output_type": "stream",
     "text": [
      "Both numbers are odd.\n"
     ]
    }
   ],
   "source": [
    "#Even Odd\n",
    "# Taking two numbers as input\n",
    "num1 = int(input(\"Enter first number: \"))\n",
    "num2 = int(input(\"Enter second number: \"))\n",
    "\n",
    "# Checking the parity of the numbers\n",
    "if num1 % 2 == 0 and num2 % 2 == 0:\n",
    "    print(\"Both numbers are even.\")\n",
    "elif num1 % 2 != 0 and num2 % 2 != 0:\n",
    "    print(\"Both numbers are odd.\")\n",
    "else:\n",
    "    print(\"One number is even, and the other is odd.\")\n",
    "    "
   ]
  },
  {
   "cell_type": "code",
   "execution_count": 37,
   "id": "104ebc4f-2bca-4787-a3ef-4667850ff128",
   "metadata": {},
   "outputs": [
    {
     "name": "stdin",
     "output_type": "stream",
     "text": [
      "Enter an integer:  5\n"
     ]
    },
    {
     "name": "stdout",
     "output_type": "stream",
     "text": [
      "Binary equivalent: 0b101\n",
      "Octal equivalent: 0o5\n",
      "Hexadecimal equivalent: 0x5\n"
     ]
    }
   ],
   "source": [
    "#Bitwise Converter\n",
    "\n",
    "# Taking an integer input\n",
    "number = int(input(\"Enter an integer: \"))\n",
    "\n",
    "# Converting to binary, octal, and hexadecimal using bitwise operations and loops\n",
    "binary = bin(number)\n",
    "octal = oct(number)\n",
    "hexadecimal = hex(number)\n",
    "\n",
    "# Displaying the results\n",
    "print(\"Binary equivalent:\", binary)\n",
    "print(\"Octal equivalent:\", octal)\n",
    "print(\"Hexadecimal equivalent:\", hexadecimal)"
   ]
  },
  {
   "cell_type": "code",
   "execution_count": null,
   "id": "8389f4ec-bb08-45d6-939b-9aa0693e7558",
   "metadata": {},
   "outputs": [],
   "source": []
  }
 ],
 "metadata": {
  "kernelspec": {
   "display_name": "Python 3 (ipykernel)",
   "language": "python",
   "name": "python3"
  },
  "language_info": {
   "codemirror_mode": {
    "name": "ipython",
    "version": 3
   },
   "file_extension": ".py",
   "mimetype": "text/x-python",
   "name": "python",
   "nbconvert_exporter": "python",
   "pygments_lexer": "ipython3",
   "version": "3.12.4"
  }
 },
 "nbformat": 4,
 "nbformat_minor": 5
}
